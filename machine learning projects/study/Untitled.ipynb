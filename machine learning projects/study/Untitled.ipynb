{
 "cells": [
  {
   "cell_type": "code",
   "execution_count": 17,
   "metadata": {},
   "outputs": [],
   "source": [
    "def featureScaling(arr):\n",
    "    xmin =  float(min(arr))\n",
    "    xmax = float(max(arr))\n",
    "    scaleddata = []\n",
    "    for x in arr:\n",
    "        try:\n",
    "            xi = (float(x) - xmin)/(xmax - xmin)\n",
    "            scaleddata.append(xi)\n",
    "            print(\"x = {}, xi = {}\".format(x,xi))\n",
    "        except:\n",
    "            print(\"Min == Max. check your data\")\n",
    "    return scaleddata\n"
   ]
  },
  {
   "cell_type": "code",
   "execution_count": 18,
   "metadata": {},
   "outputs": [
    {
     "name": "stdout",
     "output_type": "stream",
     "text": [
      "x = 115, xi = 0.0\n",
      "x = 140, xi = 0.4166666666666667\n",
      "x = 175, xi = 1.0\n",
      "[0.0, 0.4166666666666667, 1.0]\n"
     ]
    }
   ],
   "source": [
    "\n",
    "# tests of your feature scaler--line below is input data\n",
    "data = [115, 140, 175]\n",
    "\n",
    "print(featureScaling(data))"
   ]
  },
  {
   "cell_type": "code",
   "execution_count": null,
   "metadata": {},
   "outputs": [],
   "source": []
  }
 ],
 "metadata": {
  "kernelspec": {
   "display_name": "Python 3",
   "language": "python",
   "name": "python3"
  },
  "language_info": {
   "codemirror_mode": {
    "name": "ipython",
    "version": 3
   },
   "file_extension": ".py",
   "mimetype": "text/x-python",
   "name": "python",
   "nbconvert_exporter": "python",
   "pygments_lexer": "ipython3",
   "version": "3.7.0"
  }
 },
 "nbformat": 4,
 "nbformat_minor": 2
}
